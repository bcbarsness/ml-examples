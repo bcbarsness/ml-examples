{
 "cells": [
  {
   "cell_type": "code",
   "execution_count": 1,
   "metadata": {
    "collapsed": false
   },
   "outputs": [
    {
     "name": "stderr",
     "output_type": "stream",
     "text": [
      "/Users/bcbarsness/anaconda3/lib/python3.6/site-packages/sklearn/cross_validation.py:44: DeprecationWarning: This module was deprecated in version 0.18 in favor of the model_selection module into which all the refactored classes and functions are moved. Also note that the interface of the new CV iterators are different from that of this module. This module will be removed in 0.20.\n",
      "  \"This module will be removed in 0.20.\", DeprecationWarning)\n"
     ]
    }
   ],
   "source": [
    "import quandl, math\n",
    "import numpy as np\n",
    "import pandas as pd\n",
    "from sklearn import preprocessing, cross_validation, svm\n",
    "from sklearn.linear_model import LinearRegression\n",
    "import matplotlib.pyplot as plt\n",
    "from matplotlib import style\n",
    "import datetime"
   ]
  },
  {
   "cell_type": "code",
   "execution_count": 2,
   "metadata": {
    "collapsed": true
   },
   "outputs": [],
   "source": [
    "style.use('ggplot')"
   ]
  },
  {
   "cell_type": "code",
   "execution_count": 14,
   "metadata": {
    "collapsed": false
   },
   "outputs": [
    {
     "data": {
      "text/plain": [
       "(3260, 7)"
      ]
     },
     "execution_count": 14,
     "metadata": {},
     "output_type": "execute_result"
    }
   ],
   "source": [
    "df = quandl.get(\"WIKI/GOOGL\")\n",
    "df = df[['Adj. Open',  'Adj. High',  'Adj. Low',  'Adj. Close', 'Adj. Volume']]\n",
    "df['HL_PCT'] = (df['Adj. High'] - df['Adj. Low']) / df['Adj. Close'] * 100.0\n",
    "df['PCT_change'] = (df['Adj. Close'] - df['Adj. Open']) / df['Adj. Open'] * 100.0\n",
    "df.shape"
   ]
  },
  {
   "cell_type": "code",
   "execution_count": 15,
   "metadata": {
    "collapsed": false
   },
   "outputs": [
    {
     "data": {
      "text/html": [
       "<div>\n",
       "<table border=\"1\" class=\"dataframe\">\n",
       "  <thead>\n",
       "    <tr style=\"text-align: right;\">\n",
       "      <th></th>\n",
       "      <th>Adj. Open</th>\n",
       "      <th>Adj. High</th>\n",
       "      <th>Adj. Low</th>\n",
       "      <th>Adj. Close</th>\n",
       "      <th>Adj. Volume</th>\n",
       "      <th>HL_PCT</th>\n",
       "      <th>PCT_change</th>\n",
       "    </tr>\n",
       "    <tr>\n",
       "      <th>Date</th>\n",
       "      <th></th>\n",
       "      <th></th>\n",
       "      <th></th>\n",
       "      <th></th>\n",
       "      <th></th>\n",
       "      <th></th>\n",
       "      <th></th>\n",
       "    </tr>\n",
       "  </thead>\n",
       "  <tbody>\n",
       "    <tr>\n",
       "      <th>2017-07-25</th>\n",
       "      <td>970.70</td>\n",
       "      <td>976.7300</td>\n",
       "      <td>963.800</td>\n",
       "      <td>969.03</td>\n",
       "      <td>5793414.0</td>\n",
       "      <td>1.334324</td>\n",
       "      <td>-0.172041</td>\n",
       "    </tr>\n",
       "    <tr>\n",
       "      <th>2017-07-26</th>\n",
       "      <td>972.78</td>\n",
       "      <td>973.9500</td>\n",
       "      <td>960.230</td>\n",
       "      <td>965.31</td>\n",
       "      <td>2166225.0</td>\n",
       "      <td>1.421305</td>\n",
       "      <td>-0.767902</td>\n",
       "    </tr>\n",
       "    <tr>\n",
       "      <th>2017-07-27</th>\n",
       "      <td>969.18</td>\n",
       "      <td>969.5200</td>\n",
       "      <td>937.060</td>\n",
       "      <td>952.51</td>\n",
       "      <td>3685905.0</td>\n",
       "      <td>3.407838</td>\n",
       "      <td>-1.720011</td>\n",
       "    </tr>\n",
       "    <tr>\n",
       "      <th>2017-07-28</th>\n",
       "      <td>947.99</td>\n",
       "      <td>961.7900</td>\n",
       "      <td>945.310</td>\n",
       "      <td>958.33</td>\n",
       "      <td>1795477.0</td>\n",
       "      <td>1.719658</td>\n",
       "      <td>1.090729</td>\n",
       "    </tr>\n",
       "    <tr>\n",
       "      <th>2017-07-31</th>\n",
       "      <td>960.00</td>\n",
       "      <td>961.1925</td>\n",
       "      <td>941.725</td>\n",
       "      <td>945.50</td>\n",
       "      <td>2268160.0</td>\n",
       "      <td>2.058964</td>\n",
       "      <td>-1.510417</td>\n",
       "    </tr>\n",
       "  </tbody>\n",
       "</table>\n",
       "</div>"
      ],
      "text/plain": [
       "            Adj. Open  Adj. High  Adj. Low  Adj. Close  Adj. Volume    HL_PCT  \\\n",
       "Date                                                                            \n",
       "2017-07-25     970.70   976.7300   963.800      969.03    5793414.0  1.334324   \n",
       "2017-07-26     972.78   973.9500   960.230      965.31    2166225.0  1.421305   \n",
       "2017-07-27     969.18   969.5200   937.060      952.51    3685905.0  3.407838   \n",
       "2017-07-28     947.99   961.7900   945.310      958.33    1795477.0  1.719658   \n",
       "2017-07-31     960.00   961.1925   941.725      945.50    2268160.0  2.058964   \n",
       "\n",
       "            PCT_change  \n",
       "Date                    \n",
       "2017-07-25   -0.172041  \n",
       "2017-07-26   -0.767902  \n",
       "2017-07-27   -1.720011  \n",
       "2017-07-28    1.090729  \n",
       "2017-07-31   -1.510417  "
      ]
     },
     "execution_count": 15,
     "metadata": {},
     "output_type": "execute_result"
    }
   ],
   "source": [
    "df.tail()"
   ]
  },
  {
   "cell_type": "code",
   "execution_count": 16,
   "metadata": {
    "collapsed": false
   },
   "outputs": [
    {
     "data": {
      "text/plain": [
       "False"
      ]
     },
     "execution_count": 16,
     "metadata": {},
     "output_type": "execute_result"
    }
   ],
   "source": [
    "# Are there an NaN in the dataset?\n",
    "df.isnull().values.any()"
   ]
  },
  {
   "cell_type": "code",
   "execution_count": 17,
   "metadata": {
    "collapsed": false
   },
   "outputs": [
    {
     "data": {
      "text/plain": [
       "0"
      ]
     },
     "execution_count": 17,
     "metadata": {},
     "output_type": "execute_result"
    }
   ],
   "source": [
    "# How many NaN exist in the dataset?\n",
    "df.isnull().sum().sum()"
   ]
  },
  {
   "cell_type": "code",
   "execution_count": 25,
   "metadata": {
    "collapsed": false
   },
   "outputs": [],
   "source": [
    "df = df[['Adj. Close', 'HL_PCT', 'PCT_change', 'Adj. Volume']]\n",
    "forecast_col = 'Adj. Close'\n",
    "#df.fillna(value=-99999, inplace=True)\n",
    "forecast_out = int(math.ceil(0.01 * len(df)))\n",
    "df['label'] = df[forecast_col].shift(-forecast_out)\n",
    "\n"
   ]
  },
  {
   "cell_type": "code",
   "execution_count": 29,
   "metadata": {
    "collapsed": false
   },
   "outputs": [
    {
     "data": {
      "text/html": [
       "<div>\n",
       "<table border=\"1\" class=\"dataframe\">\n",
       "  <thead>\n",
       "    <tr style=\"text-align: right;\">\n",
       "      <th></th>\n",
       "      <th>Adj. Close</th>\n",
       "      <th>HL_PCT</th>\n",
       "      <th>PCT_change</th>\n",
       "      <th>Adj. Volume</th>\n",
       "      <th>label</th>\n",
       "    </tr>\n",
       "    <tr>\n",
       "      <th>Date</th>\n",
       "      <th></th>\n",
       "      <th></th>\n",
       "      <th></th>\n",
       "      <th></th>\n",
       "      <th></th>\n",
       "    </tr>\n",
       "  </thead>\n",
       "  <tbody>\n",
       "    <tr>\n",
       "      <th>2004-08-19</th>\n",
       "      <td>50.322842</td>\n",
       "      <td>8.072956</td>\n",
       "      <td>0.324968</td>\n",
       "      <td>44659000.0</td>\n",
       "      <td>68.752232</td>\n",
       "    </tr>\n",
       "    <tr>\n",
       "      <th>2004-08-20</th>\n",
       "      <td>54.322689</td>\n",
       "      <td>7.921706</td>\n",
       "      <td>7.227007</td>\n",
       "      <td>22834300.0</td>\n",
       "      <td>69.639972</td>\n",
       "    </tr>\n",
       "    <tr>\n",
       "      <th>2004-08-23</th>\n",
       "      <td>54.869377</td>\n",
       "      <td>4.049360</td>\n",
       "      <td>-1.227880</td>\n",
       "      <td>18256100.0</td>\n",
       "      <td>69.078238</td>\n",
       "    </tr>\n",
       "    <tr>\n",
       "      <th>2004-08-24</th>\n",
       "      <td>52.597363</td>\n",
       "      <td>7.657099</td>\n",
       "      <td>-5.726357</td>\n",
       "      <td>15247300.0</td>\n",
       "      <td>67.839414</td>\n",
       "    </tr>\n",
       "    <tr>\n",
       "      <th>2004-08-25</th>\n",
       "      <td>53.164113</td>\n",
       "      <td>3.886792</td>\n",
       "      <td>1.183658</td>\n",
       "      <td>9188600.0</td>\n",
       "      <td>68.912727</td>\n",
       "    </tr>\n",
       "    <tr>\n",
       "      <th>2004-08-26</th>\n",
       "      <td>54.122070</td>\n",
       "      <td>3.048837</td>\n",
       "      <td>2.820391</td>\n",
       "      <td>7094800.0</td>\n",
       "      <td>70.668146</td>\n",
       "    </tr>\n",
       "    <tr>\n",
       "      <th>2004-08-27</th>\n",
       "      <td>53.239345</td>\n",
       "      <td>2.760245</td>\n",
       "      <td>-1.803885</td>\n",
       "      <td>6211700.0</td>\n",
       "      <td>71.219849</td>\n",
       "    </tr>\n",
       "    <tr>\n",
       "      <th>2004-08-30</th>\n",
       "      <td>51.162935</td>\n",
       "      <td>3.411430</td>\n",
       "      <td>-3.106003</td>\n",
       "      <td>5196700.0</td>\n",
       "      <td>72.278116</td>\n",
       "    </tr>\n",
       "    <tr>\n",
       "      <th>2004-08-31</th>\n",
       "      <td>51.343492</td>\n",
       "      <td>1.514115</td>\n",
       "      <td>0.048866</td>\n",
       "      <td>4917800.0</td>\n",
       "      <td>74.810934</td>\n",
       "    </tr>\n",
       "    <tr>\n",
       "      <th>2004-09-01</th>\n",
       "      <td>50.280210</td>\n",
       "      <td>3.291771</td>\n",
       "      <td>-2.385589</td>\n",
       "      <td>9138200.0</td>\n",
       "      <td>74.199045</td>\n",
       "    </tr>\n",
       "    <tr>\n",
       "      <th>2004-09-02</th>\n",
       "      <td>50.912161</td>\n",
       "      <td>3.378977</td>\n",
       "      <td>2.442224</td>\n",
       "      <td>15118600.0</td>\n",
       "      <td>70.462511</td>\n",
       "    </tr>\n",
       "    <tr>\n",
       "      <th>2004-09-03</th>\n",
       "      <td>50.159839</td>\n",
       "      <td>2.419758</td>\n",
       "      <td>-0.931154</td>\n",
       "      <td>5152400.0</td>\n",
       "      <td>74.921275</td>\n",
       "    </tr>\n",
       "    <tr>\n",
       "      <th>2004-09-07</th>\n",
       "      <td>50.947269</td>\n",
       "      <td>2.352825</td>\n",
       "      <td>0.564301</td>\n",
       "      <td>5847500.0</td>\n",
       "      <td>86.481962</td>\n",
       "    </tr>\n",
       "    <tr>\n",
       "      <th>2004-09-08</th>\n",
       "      <td>51.308384</td>\n",
       "      <td>2.473118</td>\n",
       "      <td>1.548541</td>\n",
       "      <td>4985600.0</td>\n",
       "      <td>93.990139</td>\n",
       "    </tr>\n",
       "    <tr>\n",
       "      <th>2004-09-09</th>\n",
       "      <td>51.313400</td>\n",
       "      <td>1.671391</td>\n",
       "      <td>-0.185366</td>\n",
       "      <td>4061700.0</td>\n",
       "      <td>91.181468</td>\n",
       "    </tr>\n",
       "    <tr>\n",
       "      <th>2004-09-10</th>\n",
       "      <td>52.828075</td>\n",
       "      <td>4.993829</td>\n",
       "      <td>3.804080</td>\n",
       "      <td>8698800.0</td>\n",
       "      <td>93.272925</td>\n",
       "    </tr>\n",
       "    <tr>\n",
       "      <th>2004-09-13</th>\n",
       "      <td>53.916435</td>\n",
       "      <td>1.813953</td>\n",
       "      <td>0.815905</td>\n",
       "      <td>7844100.0</td>\n",
       "      <td>96.949273</td>\n",
       "    </tr>\n",
       "    <tr>\n",
       "      <th>2004-09-14</th>\n",
       "      <td>55.917612</td>\n",
       "      <td>4.673065</td>\n",
       "      <td>3.769546</td>\n",
       "      <td>10828900.0</td>\n",
       "      <td>95.615155</td>\n",
       "    </tr>\n",
       "    <tr>\n",
       "      <th>2004-09-15</th>\n",
       "      <td>56.173402</td>\n",
       "      <td>3.598214</td>\n",
       "      <td>1.302460</td>\n",
       "      <td>10713000.0</td>\n",
       "      <td>98.318500</td>\n",
       "    </tr>\n",
       "    <tr>\n",
       "      <th>2004-09-16</th>\n",
       "      <td>57.161452</td>\n",
       "      <td>3.641309</td>\n",
       "      <td>1.450952</td>\n",
       "      <td>9266300.0</td>\n",
       "      <td>97.736704</td>\n",
       "    </tr>\n",
       "    <tr>\n",
       "      <th>2004-09-17</th>\n",
       "      <td>58.926902</td>\n",
       "      <td>3.353477</td>\n",
       "      <td>2.683097</td>\n",
       "      <td>9472500.0</td>\n",
       "      <td>96.131750</td>\n",
       "    </tr>\n",
       "    <tr>\n",
       "      <th>2004-09-20</th>\n",
       "      <td>59.864797</td>\n",
       "      <td>4.046582</td>\n",
       "      <td>2.060710</td>\n",
       "      <td>10628700.0</td>\n",
       "      <td>92.635958</td>\n",
       "    </tr>\n",
       "    <tr>\n",
       "      <th>2004-09-21</th>\n",
       "      <td>59.102444</td>\n",
       "      <td>2.469450</td>\n",
       "      <td>-1.963394</td>\n",
       "      <td>7228700.0</td>\n",
       "      <td>84.937193</td>\n",
       "    </tr>\n",
       "    <tr>\n",
       "      <th>2004-09-22</th>\n",
       "      <td>59.373280</td>\n",
       "      <td>2.415949</td>\n",
       "      <td>0.791826</td>\n",
       "      <td>7581200.0</td>\n",
       "      <td>86.542147</td>\n",
       "    </tr>\n",
       "    <tr>\n",
       "      <th>2004-09-23</th>\n",
       "      <td>60.597057</td>\n",
       "      <td>4.643271</td>\n",
       "      <td>1.666106</td>\n",
       "      <td>8535600.0</td>\n",
       "      <td>84.611187</td>\n",
       "    </tr>\n",
       "    <tr>\n",
       "      <th>2004-09-24</th>\n",
       "      <td>60.100525</td>\n",
       "      <td>3.621798</td>\n",
       "      <td>-0.942382</td>\n",
       "      <td>9123400.0</td>\n",
       "      <td>84.189886</td>\n",
       "    </tr>\n",
       "    <tr>\n",
       "      <th>2004-09-27</th>\n",
       "      <td>59.313094</td>\n",
       "      <td>2.604431</td>\n",
       "      <td>-1.087320</td>\n",
       "      <td>7066100.0</td>\n",
       "      <td>91.793357</td>\n",
       "    </tr>\n",
       "    <tr>\n",
       "      <th>2004-09-28</th>\n",
       "      <td>63.626409</td>\n",
       "      <td>5.667665</td>\n",
       "      <td>4.713165</td>\n",
       "      <td>16929000.0</td>\n",
       "      <td>91.281778</td>\n",
       "    </tr>\n",
       "    <tr>\n",
       "      <th>2004-09-29</th>\n",
       "      <td>65.742942</td>\n",
       "      <td>6.705829</td>\n",
       "      <td>3.595985</td>\n",
       "      <td>30516400.0</td>\n",
       "      <td>92.721222</td>\n",
       "    </tr>\n",
       "    <tr>\n",
       "      <th>2004-09-30</th>\n",
       "      <td>65.000651</td>\n",
       "      <td>2.546296</td>\n",
       "      <td>-0.230179</td>\n",
       "      <td>13758000.0</td>\n",
       "      <td>86.539640</td>\n",
       "    </tr>\n",
       "    <tr>\n",
       "      <th>2004-10-01</th>\n",
       "      <td>66.495265</td>\n",
       "      <td>4.027757</td>\n",
       "      <td>1.360856</td>\n",
       "      <td>15124800.0</td>\n",
       "      <td>86.517070</td>\n",
       "    </tr>\n",
       "    <tr>\n",
       "      <th>2004-10-04</th>\n",
       "      <td>67.739104</td>\n",
       "      <td>2.102769</td>\n",
       "      <td>-0.158936</td>\n",
       "      <td>13022700.0</td>\n",
       "      <td>84.029391</td>\n",
       "    </tr>\n",
       "    <tr>\n",
       "      <th>2004-10-05</th>\n",
       "      <td>69.399229</td>\n",
       "      <td>4.545783</td>\n",
       "      <td>2.755087</td>\n",
       "      <td>14973200.0</td>\n",
       "      <td>84.962270</td>\n",
       "    </tr>\n",
       "    <tr>\n",
       "      <th>2004-10-06</th>\n",
       "      <td>68.752232</td>\n",
       "      <td>1.787278</td>\n",
       "      <td>-0.428561</td>\n",
       "      <td>13381400.0</td>\n",
       "      <td>82.805613</td>\n",
       "    </tr>\n",
       "  </tbody>\n",
       "</table>\n",
       "</div>"
      ],
      "text/plain": [
       "            Adj. Close    HL_PCT  PCT_change  Adj. Volume      label\n",
       "Date                                                                \n",
       "2004-08-19   50.322842  8.072956    0.324968   44659000.0  68.752232\n",
       "2004-08-20   54.322689  7.921706    7.227007   22834300.0  69.639972\n",
       "2004-08-23   54.869377  4.049360   -1.227880   18256100.0  69.078238\n",
       "2004-08-24   52.597363  7.657099   -5.726357   15247300.0  67.839414\n",
       "2004-08-25   53.164113  3.886792    1.183658    9188600.0  68.912727\n",
       "2004-08-26   54.122070  3.048837    2.820391    7094800.0  70.668146\n",
       "2004-08-27   53.239345  2.760245   -1.803885    6211700.0  71.219849\n",
       "2004-08-30   51.162935  3.411430   -3.106003    5196700.0  72.278116\n",
       "2004-08-31   51.343492  1.514115    0.048866    4917800.0  74.810934\n",
       "2004-09-01   50.280210  3.291771   -2.385589    9138200.0  74.199045\n",
       "2004-09-02   50.912161  3.378977    2.442224   15118600.0  70.462511\n",
       "2004-09-03   50.159839  2.419758   -0.931154    5152400.0  74.921275\n",
       "2004-09-07   50.947269  2.352825    0.564301    5847500.0  86.481962\n",
       "2004-09-08   51.308384  2.473118    1.548541    4985600.0  93.990139\n",
       "2004-09-09   51.313400  1.671391   -0.185366    4061700.0  91.181468\n",
       "2004-09-10   52.828075  4.993829    3.804080    8698800.0  93.272925\n",
       "2004-09-13   53.916435  1.813953    0.815905    7844100.0  96.949273\n",
       "2004-09-14   55.917612  4.673065    3.769546   10828900.0  95.615155\n",
       "2004-09-15   56.173402  3.598214    1.302460   10713000.0  98.318500\n",
       "2004-09-16   57.161452  3.641309    1.450952    9266300.0  97.736704\n",
       "2004-09-17   58.926902  3.353477    2.683097    9472500.0  96.131750\n",
       "2004-09-20   59.864797  4.046582    2.060710   10628700.0  92.635958\n",
       "2004-09-21   59.102444  2.469450   -1.963394    7228700.0  84.937193\n",
       "2004-09-22   59.373280  2.415949    0.791826    7581200.0  86.542147\n",
       "2004-09-23   60.597057  4.643271    1.666106    8535600.0  84.611187\n",
       "2004-09-24   60.100525  3.621798   -0.942382    9123400.0  84.189886\n",
       "2004-09-27   59.313094  2.604431   -1.087320    7066100.0  91.793357\n",
       "2004-09-28   63.626409  5.667665    4.713165   16929000.0  91.281778\n",
       "2004-09-29   65.742942  6.705829    3.595985   30516400.0  92.721222\n",
       "2004-09-30   65.000651  2.546296   -0.230179   13758000.0  86.539640\n",
       "2004-10-01   66.495265  4.027757    1.360856   15124800.0  86.517070\n",
       "2004-10-04   67.739104  2.102769   -0.158936   13022700.0  84.029391\n",
       "2004-10-05   69.399229  4.545783    2.755087   14973200.0  84.962270\n",
       "2004-10-06   68.752232  1.787278   -0.428561   13381400.0  82.805613"
      ]
     },
     "execution_count": 29,
     "metadata": {},
     "output_type": "execute_result"
    }
   ],
   "source": [
    "df.head(34)"
   ]
  },
  {
   "cell_type": "code",
   "execution_count": 39,
   "metadata": {
    "collapsed": false
   },
   "outputs": [
    {
     "data": {
      "text/plain": [
       "array([[-1.48311145,  4.20647602,  0.23047825,  4.3847478 ],\n",
       "       [-1.46497796,  4.09908995,  4.77664553,  1.76521024],\n",
       "       [-1.46249953,  1.34974959, -0.79233605,  1.21570593],\n",
       "       ..., \n",
       "       [ 2.6868298 ,  2.28992426, -2.300564  , -0.54173519],\n",
       "       [ 2.64915605,  0.77823584,  0.22872437, -0.47533425],\n",
       "       [ 2.68855255, -0.36206549, -0.08792103, -0.73635876]])"
      ]
     },
     "execution_count": 39,
     "metadata": {},
     "output_type": "execute_result"
    }
   ],
   "source": [
    "X = np.array(df.drop(['label'], 1))\n",
    "X = preprocessing.scale(X)\n",
    "X_lately = X[-forecast_out:]\n",
    "X = X[:-forecast_out]\n",
    "X\n"
   ]
  },
  {
   "cell_type": "code",
   "execution_count": 38,
   "metadata": {
    "collapsed": false
   },
   "outputs": [
    {
     "data": {
      "text/plain": [
       "33"
      ]
     },
     "execution_count": 38,
     "metadata": {},
     "output_type": "execute_result"
    }
   ],
   "source": [
    "df.isnull().sum().sum()"
   ]
  },
  {
   "cell_type": "code",
   "execution_count": 40,
   "metadata": {
    "collapsed": false
   },
   "outputs": [
    {
     "data": {
      "text/plain": [
       "0"
      ]
     },
     "execution_count": 40,
     "metadata": {},
     "output_type": "execute_result"
    }
   ],
   "source": [
    "df.dropna(inplace=True)\n",
    "df.isnull().sum().sum()"
   ]
  },
  {
   "cell_type": "code",
   "execution_count": 41,
   "metadata": {
    "collapsed": false
   },
   "outputs": [],
   "source": [
    "y = np.array(df['label'])"
   ]
  },
  {
   "cell_type": "code",
   "execution_count": 42,
   "metadata": {
    "collapsed": true
   },
   "outputs": [],
   "source": [
    "X_train, X_test, y_train, y_test = cross_validation.train_test_split(X, y, test_size=0.2)\n",
    "clf = LinearRegression(n_jobs=-1)\n",
    "clf.fit(X_train, y_train)\n",
    "accuracy = clf.score(X_test, y_test)"
   ]
  },
  {
   "cell_type": "code",
   "execution_count": 43,
   "metadata": {
    "collapsed": false
   },
   "outputs": [
    {
     "data": {
      "text/plain": [
       "0.97251212196264925"
      ]
     },
     "execution_count": 43,
     "metadata": {},
     "output_type": "execute_result"
    }
   ],
   "source": [
    "accuracy"
   ]
  },
  {
   "cell_type": "code",
   "execution_count": 54,
   "metadata": {
    "collapsed": false
   },
   "outputs": [
    {
     "data": {
      "text/plain": [
       "array([  979.86559702,   971.67600429,   971.14221409,   988.02360334,\n",
       "         981.77034315,   991.52214885,   990.01586653,   998.77362127,\n",
       "         983.76518702,   959.77208832,   971.71815298,   949.06318989,\n",
       "         941.87651886,   931.34829732,   944.04181171,   939.68381724,\n",
       "         953.02046738,   963.69956881,   966.43516801,   980.23792888,\n",
       "         981.25944262,   990.22968335,   988.6191221 ,   998.93415806,\n",
       "        1005.92177848,  1004.84191301,  1006.73083891,  1010.29982392,\n",
       "         980.59652316,   977.74579176,   962.60487371,   970.38077664,\n",
       "         957.29235354])"
      ]
     },
     "execution_count": 54,
     "metadata": {},
     "output_type": "execute_result"
    }
   ],
   "source": [
    "forecast_set = clf.predict(X_lately)\n",
    "df['Forecast'] = np.nan\n",
    "forecast_set"
   ]
  },
  {
   "cell_type": "code",
   "execution_count": 55,
   "metadata": {
    "collapsed": true
   },
   "outputs": [],
   "source": [
    "last_date = df.iloc[-1].name\n",
    "last_unix = last_date.timestamp()\n",
    "one_day = 86400\n",
    "next_unix = last_unix + one_day\n",
    "\n",
    "for i in forecast_set:\n",
    "    next_date = datetime.datetime.fromtimestamp(next_unix)\n",
    "    next_unix += 86400\n",
    "    df.loc[next_date] = [np.nan for _ in range(len(df.columns)-1)]+[i]\n"
   ]
  },
  {
   "cell_type": "code",
   "execution_count": 56,
   "metadata": {
    "collapsed": false
   },
   "outputs": [
    {
     "data": {
      "image/png": "[encoded data removed]",
      "text/plain": [
       "<matplotlib.figure.Figure at 0x11ca3ae10>"
      ]
     },
     "metadata": {},
     "output_type": "display_data"
    }
   ],
   "source": [
    "df['Adj. Close'].plot()\n",
    "df['Forecast'].plot()\n",
    "plt.legend(loc=4)\n",
    "plt.xlabel('Date')\n",
    "plt.ylabel('Price')\n",
    "plt.show()"
   ]
  },
  {
   "cell_type": "code",
   "execution_count": null,
   "metadata": {
    "collapsed": false
   },
   "outputs": [],
   "source": []
  },
  {
   "cell_type": "code",
   "execution_count": null,
   "metadata": {
    "collapsed": false
   },
   "outputs": [],
   "source": []
  },
  {
   "cell_type": "code",
   "execution_count": null,
   "metadata": {
    "collapsed": true
   },
   "outputs": [],
   "source": []
  }
 ],
 "metadata": {
  "kernelspec": {
   "display_name": "Python 3",
   "language": "python",
   "name": "python3"
  },
  "language_info": {
   "codemirror_mode": {
    "name": "ipython",
    "version": 3
   },
   "file_extension": ".py",
   "mimetype": "text/x-python",
   "name": "python",
   "nbconvert_exporter": "python",
   "pygments_lexer": "ipython3",
   "version": "3.6.0"
  }
 },
 "nbformat": 4,
 "nbformat_minor": 2
}
